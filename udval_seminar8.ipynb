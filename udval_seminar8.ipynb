{
 "cells": [
  {
   "cell_type": "code",
   "execution_count": 3,
   "id": "2cee5d91-1be8-4ad1-a0f5-f8f050d87cd9",
   "metadata": {},
   "outputs": [
    {
     "name": "stdout",
     "output_type": "stream",
     "text": [
      "0     CA-2016-152156\n",
      "1     CA-2016-152156\n",
      "2     CA-2016-138688\n",
      "3     US-2015-108966\n",
      "4     US-2015-108966\n",
      "           ...      \n",
      "95    US-2017-109484\n",
      "96    CA-2017-161018\n",
      "97    CA-2017-157833\n",
      "98    CA-2016-149223\n",
      "99    CA-2016-158568\n",
      "Name: Order ID, Length: 100, dtype: object\n",
      "          Order ID Order Date Customer ID      Segment     Region  \\\n",
      "0   CA-2016-152156 2016-11-08    EB-13930     Хувь хүн   Баянзүрх   \n",
      "1   CA-2016-152156 2016-11-08    EB-13930     Хувь хүн   Баянзүрх   \n",
      "2   CA-2016-138688 2016-06-12    MO-17950  Байгууллага    Хан-Уул   \n",
      "3   US-2015-108966 2015-10-11    JO-15550     Хувь хүн   Баянзүрх   \n",
      "4   US-2015-108966 2015-10-11    JO-15550     Хувь хүн   Баянзүрх   \n",
      "..             ...        ...         ...          ...        ...   \n",
      "95  US-2017-109484 2017-11-06    JR-15700       Гишүүн    Хан-Уул   \n",
      "96  CA-2017-161018 2017-11-09    AJ-10945       Гишүүн  Сүхбаатар   \n",
      "97  CA-2017-157833 2017-06-17    BM-11575     Хувь хүн    Хан-Уул   \n",
      "98  CA-2016-149223 2016-09-06    CV-12805  Байгууллага  Чингэлтэй   \n",
      "99  CA-2016-158568 2016-08-29    DK-12835       Гишүүн  Чингэлтэй   \n",
      "\n",
      "                           Category             Product Name  Price  Quantity  \\\n",
      "0                    Чихэр, печенье       Shokolinsen 250 гр   3300         2   \n",
      "1            OO ийн цаас, сальфетка      Хэрэглээ 00ийн цаас    500         3   \n",
      "2                    Чихэр, печенье  Алимтай жигнэмэг 230 гр   3100         2   \n",
      "3                         Хиам бууз      Золотой янта 500 гр   2800         5   \n",
      "4                          Ундаа ус             Punch 450 мл   1150         2   \n",
      "..                              ...                      ...    ...       ...   \n",
      "95  Компот варенье, хүүхдийн тэжээл            Hainich нухаш   3300         1   \n",
      "96                       Самар чипс          Lays чипс 80 гр   2300         7   \n",
      "97             Набор, шоколад, бохь           Монстров 23 гр    500         3   \n",
      "98                        Архи пиво              Арвай 0.100   2000         6   \n",
      "99                     Бэлэн гоймон     Тэйсти гоймон 110 гр   1800         7   \n",
      "\n",
      "    Discount    Sales  \n",
      "0       0.00   6600.0  \n",
      "1       0.00   1500.0  \n",
      "2       0.00   6200.0  \n",
      "3       0.00  14000.0  \n",
      "4       0.00   2300.0  \n",
      "..       ...      ...  \n",
      "95      0.03   3201.0  \n",
      "96      0.03  15617.0  \n",
      "97      0.00   1500.0  \n",
      "98      0.00  12000.0  \n",
      "99      0.03  12222.0  \n",
      "\n",
      "[100 rows x 11 columns]\n"
     ]
    }
   ],
   "source": [
    "import pandas as pd\n",
    "data = pd.read_excel('seminar.xlsx')\n",
    "order_id_series = data['Order ID']\n",
    "order_date_series = data['Order Date']\n",
    "customer_id_series = data['Customer ID']\n",
    "segment_series = data['Segment']\n",
    "region_series = data['Region']\n",
    "category_series = data['Category']\n",
    "product_name_series = data['Product Name']\n",
    "price_series = data['Price']\n",
    "quantity_series = data['Quantity']\n",
    "discount_series = data['Discount']\n",
    "sales_series = data['Sales']\n",
    "print(order_id_series)\n",
    "data_frame = pd.DataFrame({\n",
    "    'Order ID': order_id_series,\n",
    "    'Order Date': order_date_series,\n",
    "    'Customer ID': customer_id_series,\n",
    "    'Segment': segment_series,\n",
    "    'Region': region_series,\n",
    "    'Category': category_series,\n",
    "    'Product Name': product_name_series,\n",
    "    'Price': price_series,\n",
    "    'Quantity': quantity_series,\n",
    "    'Discount': discount_series,\n",
    "    'Sales': sales_series\n",
    "})\n",
    "print(data_frame)"
   ]
  },
  {
   "cell_type": "code",
   "execution_count": 5,
   "id": "7e2a7f7f-66b2-44c8-8f3c-f6e4900124da",
   "metadata": {},
   "outputs": [
    {
     "data": {
      "text/plain": [
       "0     CA-2016-152156\n",
       "1     CA-2016-152156\n",
       "2     CA-2016-138688\n",
       "3     US-2015-108966\n",
       "4     US-2015-108966\n",
       "           ...      \n",
       "95    US-2017-109484\n",
       "96    CA-2017-161018\n",
       "97    CA-2017-157833\n",
       "98    CA-2016-149223\n",
       "99    CA-2016-158568\n",
       "Name: Order ID, Length: 100, dtype: object"
      ]
     },
     "execution_count": 5,
     "metadata": {},
     "output_type": "execute_result"
    }
   ],
   "source": [
    "order_id_series = data['Order ID']\n",
    "order_id_series"
   ]
  },
  {
   "cell_type": "code",
   "execution_count": null,
   "id": "1f1a91e6-ce47-45ca-a57e-c49cd9a595f0",
   "metadata": {},
   "outputs": [],
   "source": []
  }
 ],
 "metadata": {
  "kernelspec": {
   "display_name": "Python 3 (ipykernel)",
   "language": "python",
   "name": "python3"
  },
  "language_info": {
   "codemirror_mode": {
    "name": "ipython",
    "version": 3
   },
   "file_extension": ".py",
   "mimetype": "text/x-python",
   "name": "python",
   "nbconvert_exporter": "python",
   "pygments_lexer": "ipython3",
   "version": "3.11.5"
  }
 },
 "nbformat": 4,
 "nbformat_minor": 5
}
