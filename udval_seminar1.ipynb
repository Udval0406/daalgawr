{
 "cells": [
  {
   "cell_type": "code",
   "execution_count": 1,
   "id": "11aa9312",
   "metadata": {},
   "outputs": [
    {
     "data": {
      "text/plain": [
       "[50,\n",
       " 51,\n",
       " 52,\n",
       " 53,\n",
       " 54,\n",
       " 55,\n",
       " 56,\n",
       " 57,\n",
       " 58,\n",
       " 59,\n",
       " 60,\n",
       " 61,\n",
       " 62,\n",
       " 63,\n",
       " 64,\n",
       " 65,\n",
       " 66,\n",
       " 67,\n",
       " 68,\n",
       " 69,\n",
       " 70,\n",
       " 71,\n",
       " 72,\n",
       " 73,\n",
       " 74,\n",
       " 75,\n",
       " 76,\n",
       " 77,\n",
       " 78,\n",
       " 79,\n",
       " 80,\n",
       " 81,\n",
       " 82,\n",
       " 83,\n",
       " 84,\n",
       " 85,\n",
       " 86,\n",
       " 87,\n",
       " 88,\n",
       " 89,\n",
       " 90,\n",
       " 91,\n",
       " 92,\n",
       " 93,\n",
       " 94,\n",
       " 95,\n",
       " 96,\n",
       " 97,\n",
       " 98,\n",
       " 99,\n",
       " 100]"
      ]
     },
     "execution_count": 1,
     "metadata": {},
     "output_type": "execute_result"
    }
   ],
   "source": [
    "### bodlogo1\n",
    "my_array = [x for x in range(50, 101)]\n",
    "my_array"
   ]
  },
  {
   "cell_type": "code",
   "execution_count": 4,
   "id": "fdc44e0d",
   "metadata": {},
   "outputs": [
    {
     "data": {
      "text/plain": [
       "[1,\n",
       " 1,\n",
       " 1,\n",
       " 1,\n",
       " 1,\n",
       " 1,\n",
       " 1,\n",
       " 1,\n",
       " 1,\n",
       " 1,\n",
       " 0,\n",
       " 0,\n",
       " 0,\n",
       " 0,\n",
       " 0,\n",
       " 0,\n",
       " 0,\n",
       " 0,\n",
       " 0,\n",
       " 0,\n",
       " 6,\n",
       " 6,\n",
       " 6,\n",
       " 6,\n",
       " 6,\n",
       " 6,\n",
       " 6,\n",
       " 6,\n",
       " 6,\n",
       " 6]"
      ]
     },
     "execution_count": 4,
     "metadata": {},
     "output_type": "execute_result"
    }
   ],
   "source": [
    "# bodlogo 2\n",
    "my_array = [1] * 10 + [0] * 10 + [6] * 10\n",
    "my_array"
   ]
  },
  {
   "cell_type": "code",
   "execution_count": 5,
   "id": "5f4a294a",
   "metadata": {},
   "outputs": [
    {
     "data": {
      "text/plain": [
       "array([[20, 21, 22, 23],\n",
       "       [24, 25, 26, 27],\n",
       "       [28, 29, 30, 31]])"
      ]
     },
     "execution_count": 5,
     "metadata": {},
     "output_type": "execute_result"
    }
   ],
   "source": [
    "import numpy as np\n",
    "my_array = np.arange(20, 32).reshape(3, 4)\n",
    "my_array"
   ]
  },
  {
   "cell_type": "code",
   "execution_count": 6,
   "id": "04d506fe",
   "metadata": {},
   "outputs": [
    {
     "data": {
      "text/plain": [
       "array([[1., 0., 0.],\n",
       "       [0., 1., 0.],\n",
       "       [0., 0., 1.]])"
      ]
     },
     "execution_count": 6,
     "metadata": {},
     "output_type": "execute_result"
    }
   ],
   "source": [
    "my_array = np.eye(3)\n",
    "my_array"
   ]
  },
  {
   "cell_type": "code",
   "execution_count": 7,
   "id": "8867465c",
   "metadata": {},
   "outputs": [
    {
     "data": {
      "text/plain": [
       "array([[1, 0, 0, 0, 0],\n",
       "       [0, 2, 0, 0, 0],\n",
       "       [0, 0, 3, 0, 0],\n",
       "       [0, 0, 0, 4, 0],\n",
       "       [0, 0, 0, 0, 5]])"
      ]
     },
     "execution_count": 7,
     "metadata": {},
     "output_type": "execute_result"
    }
   ],
   "source": [
    "my_array = np.diag(np.arange(1, 6))\n",
    "my_array"
   ]
  },
  {
   "cell_type": "code",
   "execution_count": 8,
   "id": "ee5246a9",
   "metadata": {},
   "outputs": [
    {
     "name": "stdout",
     "output_type": "stream",
     "text": [
      "niilber: 78\n",
      "baganuud niilber: [15 18 21 24]\n",
      "mornii niilber: [10 26 42]\n"
     ]
    }
   ],
   "source": [
    "my_array = np.array([[1, 2, 3, 4],\n",
    "                     [5, 6, 7, 8],\n",
    "                     [9, 10, 11, 12]])\n",
    "total_sum = np.sum(my_array)\n",
    "print(f\"niilber: {total_sum}\")\n",
    "\n",
    "column_sums = np.sum(my_array, axis=0)\n",
    "print(f\"baganuud niilber: {column_sums}\")\n",
    "\n",
    "row_sums = np.sum(my_array, axis=1)\n",
    "print(f\"mornii niilber: {row_sums}\")"
   ]
  },
  {
   "cell_type": "code",
   "execution_count": 9,
   "id": "6a68947c",
   "metadata": {},
   "outputs": [
    {
     "name": "stdout",
     "output_type": "stream",
     "text": [
      "Player 1 - Total Salary: 690000, Total Appearances: 280, Total Goals: 98\n",
      "Player 2 - Total Salary: 649000, Total Appearances: 270, Total Goals: 86\n",
      "Player 3 - Total Salary: 790000, Total Appearances: 346, Total Goals: 171\n"
     ]
    }
   ],
   "source": [
    "player1_salary = np.array([60000, 62000, 64000, 66000, 68000, 70000, 72000, 74000, 76000, 78000])\n",
    "player1_appearances = np.array([20, 25, 22, 24, 26, 28, 30, 32, 35, 38])\n",
    "player1_goals = np.array([5, 7, 6, 8, 9, 10, 11, 12, 14, 16])\n",
    "\n",
    "player2_salary = np.array([55000, 58000, 60000, 62000, 64000, 66000, 68000, 70000, 72000, 74000])\n",
    "player2_appearances = np.array([18, 22, 24, 20, 26, 28, 32, 34, 30, 36])\n",
    "player2_goals = np.array([4, 6, 7, 5, 8, 9, 10, 12, 11, 14])\n",
    "\n",
    "player3_salary = np.array([70000, 72000, 74000, 76000, 78000, 80000, 82000, 84000, 86000, 88000])\n",
    "player3_appearances = np.array([24, 26, 30, 32, 34, 36, 38, 40, 42, 44])\n",
    "player3_goals = np.array([9, 10, 12, 14, 16, 18, 20, 22, 24, 26])\n",
    "\n",
    "def print_player_stats(player_name, salary, appearances, goals):\n",
    "    salary_sum = np.sum(salary)\n",
    "    appearances_sum = np.sum(appearances)\n",
    "    goals_sum = np.sum(goals)\n",
    "\n",
    "    print(f\"{player_name} - Total Salary: {salary_sum}, Total Appearances: {appearances_sum}, Total Goals: {goals_sum}\")\n",
    "\n",
    "print_player_stats(\"Player 1\", player1_salary, player1_appearances, player1_goals)\n",
    "print_player_stats(\"Player 2\", player2_salary, player2_appearances, player2_goals)\n",
    "print_player_stats(\"Player 3\", player3_salary, player3_appearances, player3_goals)"
   ]
  },
  {
   "cell_type": "code",
   "execution_count": null,
   "id": "ec46c12e",
   "metadata": {},
   "outputs": [],
   "source": []
  }
 ],
 "metadata": {
  "kernelspec": {
   "display_name": "Python 3 (ipykernel)",
   "language": "python",
   "name": "python3"
  },
  "language_info": {
   "codemirror_mode": {
    "name": "ipython",
    "version": 3
   },
   "file_extension": ".py",
   "mimetype": "text/x-python",
   "name": "python",
   "nbconvert_exporter": "python",
   "pygments_lexer": "ipython3",
   "version": "3.9.13"
  }
 },
 "nbformat": 4,
 "nbformat_minor": 5
}
