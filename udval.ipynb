{
 "cells": [
  {
   "cell_type": "code",
   "execution_count": 1,
   "id": "e43e0ba3",
   "metadata": {},
   "outputs": [
    {
     "name": "stdout",
     "output_type": "stream",
     "text": [
      "Enter a number (n): 3\n",
      "*\n",
      "**\n",
      "***\n"
     ]
    }
   ],
   "source": [
    "def print_stars(n):\n",
    "    for i in range(1, n + 1):\n",
    "        print('*' * i)\n",
    "n = int(input(\"Enter a number (n): \"))\n",
    "print_stars(n)"
   ]
  },
  {
   "cell_type": "code",
   "execution_count": 2,
   "id": "aada71e5",
   "metadata": {},
   "outputs": [
    {
     "name": "stdout",
     "output_type": "stream",
     "text": [
      "Maximum Key: Suren\n",
      "Minimum Key: Bat\n"
     ]
    }
   ],
   "source": [
    "def find_max_min_keys(student_dict):\n",
    "    if not student_dict:\n",
    "        return None, None\n",
    "\n",
    "    max_key = max(student_dict)\n",
    "    min_key = min(student_dict)\n",
    "    return max_key, min_key\n",
    "\n",
    "students = {\n",
    "    'Bat': 18,\n",
    "    'Oyun': 22,\n",
    "    'Dulam': 21,\n",
    "    'Suren': 20\n",
    "}\n",
    "\n",
    "max_key, min_key = find_max_min_keys(students)\n",
    "\n",
    "print(f\"Maximum Key: {max_key}\")\n",
    "print(f\"Minimum Key: {min_key}\")"
   ]
  },
  {
   "cell_type": "code",
   "execution_count": 3,
   "id": "81c62306",
   "metadata": {},
   "outputs": [
    {
     "name": "stdout",
     "output_type": "stream",
     "text": [
      "Sum 214216\n"
     ]
    }
   ],
   "source": [
    "import numpy as np\n",
    "numbers = np.arange(1, 1000)\n",
    "divisible_by_3_or_7 = numbers[(numbers % 3 == 0) | (numbers % 7 == 0)]\n",
    "sum_divisible_by_3_or_7 = np.sum(divisible_by_3_or_7)\n",
    "print(\"Sum\", sum_divisible_by_3_or_7)"
   ]
  },
  {
   "cell_type": "code",
   "execution_count": null,
   "id": "0ee2f0df",
   "metadata": {},
   "outputs": [],
   "source": []
  }
 ],
 "metadata": {
  "kernelspec": {
   "display_name": "Python 3 (ipykernel)",
   "language": "python",
   "name": "python3"
  },
  "language_info": {
   "codemirror_mode": {
    "name": "ipython",
    "version": 3
   },
   "file_extension": ".py",
   "mimetype": "text/x-python",
   "name": "python",
   "nbconvert_exporter": "python",
   "pygments_lexer": "ipython3",
   "version": "3.9.13"
  }
 },
 "nbformat": 4,
 "nbformat_minor": 5
}
